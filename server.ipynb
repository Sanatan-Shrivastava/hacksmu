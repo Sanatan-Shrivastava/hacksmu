{
 "cells": [
  {
   "cell_type": "code",
   "execution_count": 1,
   "metadata": {},
   "outputs": [
    {
     "name": "stdout",
     "output_type": "stream",
     "text": [
      "Requirement already satisfied: flask_cors in /usr/local/python/3.10.8/lib/python3.10/site-packages (4.0.0)\n",
      "Requirement already satisfied: Flask>=0.9 in /usr/local/python/3.10.8/lib/python3.10/site-packages (from flask_cors) (2.3.3)\n",
      "Requirement already satisfied: Werkzeug>=2.3.7 in /usr/local/python/3.10.8/lib/python3.10/site-packages (from Flask>=0.9->flask_cors) (2.3.7)\n",
      "Requirement already satisfied: Jinja2>=3.1.2 in /home/codespace/.local/lib/python3.10/site-packages (from Flask>=0.9->flask_cors) (3.1.2)\n",
      "Requirement already satisfied: itsdangerous>=2.1.2 in /usr/local/python/3.10.8/lib/python3.10/site-packages (from Flask>=0.9->flask_cors) (2.1.2)\n",
      "Requirement already satisfied: click>=8.1.3 in /usr/local/python/3.10.8/lib/python3.10/site-packages (from Flask>=0.9->flask_cors) (8.1.7)\n",
      "Requirement already satisfied: blinker>=1.6.2 in /usr/local/python/3.10.8/lib/python3.10/site-packages (from Flask>=0.9->flask_cors) (1.6.2)\n",
      "Requirement already satisfied: MarkupSafe>=2.0 in /home/codespace/.local/lib/python3.10/site-packages (from Jinja2>=3.1.2->Flask>=0.9->flask_cors) (2.1.3)\n",
      "Requirement already satisfied: pyngrok in /usr/local/python/3.10.8/lib/python3.10/site-packages (6.1.0)\n",
      "Requirement already satisfied: PyYAML in /home/codespace/.local/lib/python3.10/site-packages (from pyngrok) (6.0.1)\n"
     ]
    }
   ],
   "source": [
    "!pip3 install flask_cors\n",
    "!pip3 install pyngrok"
   ]
  },
  {
   "cell_type": "code",
   "execution_count": null,
   "metadata": {},
   "outputs": [],
   "source": [
    "import pandas as pd\n",
    "import random\n",
    "\n",
    "def getRoom(room,  floor):\n",
    "    # Load the CSV file into a DataFrame\n",
    "    df = pd.read_csv('roomData.csv')\n",
    "    my_list = [\"running\", \"down\", \"service\"]\n",
    "    \n",
    "    payload = {\n",
    "        \"room\":room,\n",
    "        \"floor\":floor,\n",
    "        \"roomService\":{\n",
    "            \"ElectricalPanel\":random.choice(my_list),\n",
    "            \"PlumbingSystem\":random.choice(my_list),\n",
    "            \"FireAlarm\":random.choice(my_list),\n",
    "            \"Elevator\":random.choice(my_list),\n",
    "            \"HVAC\":random.choice(my_list)\n",
    "        }\n",
    "    }\n",
    "    return payload\n",
    "    \n",
    "    \n"
   ]
  },
  {
   "cell_type": "code",
   "execution_count": 1,
   "metadata": {},
   "outputs": [
    {
     "name": "stderr",
     "output_type": "stream",
     "text": [
      "t=2023-09-17T08:51:28+0000 lvl=warn msg=\"ngrok config file found at legacy location, move to XDG location\" xdg_path=/home/codespace/.config/ngrok/ngrok.yml legacy_path=/home/codespace/.ngrok2/ngrok.yml\n"
     ]
    },
    {
     "name": "stdout",
     "output_type": "stream",
     "text": [
      "To access the Global link, please click NgrokTunnel: \"https://dc47-20-106-75-84.ngrok-free.app\" -> \"http://localhost:5000\"\n",
      "To access the Gloable link please click NgrokTunnel: \"https://dc47-20-106-75-84.ngrok-free.app\" -> \"http://localhost:5000\"\n",
      " * Serving Flask app '__main__'\n",
      " * Debug mode: off\n"
     ]
    },
    {
     "name": "stderr",
     "output_type": "stream",
     "text": [
      "WARNING: This is a development server. Do not use it in a production deployment. Use a production WSGI server instead.\n",
      " * Running on http://127.0.0.1:5000\n",
      "Press CTRL+C to quit\n",
      "127.0.0.1 - - [17/Sep/2023 08:51:41] \"GET / HTTP/1.1\" 200 -\n",
      "127.0.0.1 - - [17/Sep/2023 08:51:41] \"GET /static/main.css HTTP/1.1\" 200 -\n",
      "127.0.0.1 - - [17/Sep/2023 08:51:41] \"GET /static/notifications.js HTTP/1.1\" 200 -\n",
      "127.0.0.1 - - [17/Sep/2023 08:51:41] \"GET /static/server.js HTTP/1.1\" 200 -\n",
      "127.0.0.1 - - [17/Sep/2023 08:51:43] \"GET /favicon.ico HTTP/1.1\" 404 -\n",
      "127.0.0.1 - - [17/Sep/2023 08:51:44] \"GET /static/main.css HTTP/1.1\" 304 -\n",
      "127.0.0.1 - - [17/Sep/2023 08:51:48] \"POST /getFutureSeries HTTP/1.1\" 200 -\n"
     ]
    }
   ],
   "source": [
    "from flask import Flask, jsonify, make_response, render_template, request\n",
    "from flask_cors import CORS\n",
    "import requests\n",
    "from pyngrok import ngrok\n",
    "\n",
    "port_no = 5000\n",
    "app = Flask(__name__)\n",
    "CORS(app, resources={r\"/*\": {\"origins\": \"*\"}})\n",
    "\n",
    "# Set up ngrok\n",
    "ngrok.set_auth_token(\"2VVfjzl2D7XpYu5bLLGCdEhBUcZ_5LFBapVYiLcefZNP5vFWj\")\n",
    "public_url = ngrok.connect(port_no, bind_tls=True)\n",
    "print(f\"To access the Global link, please click {public_url}\")\n",
    "\n",
    "@app.route('/getNotification', methods=['POST'])\n",
    "def notificationData():\n",
    "    payload = {\n",
    "        \"notifications\":[{\n",
    "\t        \"AssetType\":\"Name\",\n",
    "            \"ServiceRequiredFrom\": \"MM/DD/YYYY\",\n",
    "            \"ServiceBefore\": \"MM/DD/YYYY\",\n",
    "            \"room\":\"000\"}]\n",
    "        }\n",
    "   \n",
    "    return jsonify(payload)\n",
    "\n",
    "@app.route('/getFutureSeries', methods=['POST'])\n",
    "def futureData():\n",
    "    payload = {\n",
    "        \"futureServices\":[{\n",
    "\t        \"AssetType\":\"Name\",\n",
    "            \"ServiceRequiredFrom\": \"MM/DD/YYYY\",\n",
    "            \"ServiceBefore\": \"MM/DD/YYYY\",\n",
    "            \"room\":\"000\"\n",
    "        }]\n",
    "    }\n",
    "    return jsonify(payload) \n",
    "\n",
    "@app.route('/getRoomData', methods=['POST'])\n",
    "def roomData():\n",
    "    data = request.get_json()\n",
    "    print(data)\n",
    "    response = getRoom(data['room'], data['floor'])\n",
    "    payload = {\n",
    "        \"room\":\"roomNumber\",\n",
    "        \"floor\":\"floor\",\n",
    "        \"roomService\":{\n",
    "            \"ElectricalPanel\":\"running\",\n",
    "            \"PlumbingSystem\":\"down\",\n",
    "            \"FireAlarm\":\"service\",\n",
    "            \"Elevator\":\"service\",\n",
    "            \"HVAC\":\"running\"\n",
    "        }\n",
    "    }\n",
    "    return jsonify(response) \n",
    "\n",
    "\n",
    "print(f\"To access the Gloable link please click {public_url}\")\n",
    "\n",
    "# Define a route to serve static files\n",
    "app.static_folder = 'static'\n",
    "\n",
    "@app.route('/')\n",
    "def home():\n",
    "    return render_template(\"./index.html\")\n",
    "\n",
    "@app.route('/dashboard')\n",
    "def dashboard():\n",
    "    return render_template(\"./dashboard.html\")\n",
    "\n",
    "app.run(port=port_no)"
   ]
  }
 ],
 "metadata": {
  "kernelspec": {
   "display_name": "Python 3",
   "language": "python",
   "name": "python3"
  },
  "language_info": {
   "codemirror_mode": {
    "name": "ipython",
    "version": 3
   },
   "file_extension": ".py",
   "mimetype": "text/x-python",
   "name": "python",
   "nbconvert_exporter": "python",
   "pygments_lexer": "ipython3",
   "version": "3.10.8"
  },
  "orig_nbformat": 4
 },
 "nbformat": 4,
 "nbformat_minor": 2
}
