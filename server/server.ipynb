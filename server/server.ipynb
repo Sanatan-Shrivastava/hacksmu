{
 "cells": [
  {
   "cell_type": "code",
   "execution_count": null,
   "metadata": {},
   "outputs": [],
   "source": [
    "%pip install flask_cors\n",
    "%pip install pyngrok\n",
    "!killall ngrok"
   ]
  },
  {
   "cell_type": "code",
   "execution_count": 9,
   "metadata": {},
   "outputs": [
    {
     "name": "stderr",
     "output_type": "stream",
     "text": [
      "t=2023-09-16T16:17:41+0000 lvl=warn msg=\"ngrok config file found at legacy location, move to XDG location\" xdg_path=/home/codespace/.config/ngrok/ngrok.yml legacy_path=/home/codespace/.ngrok2/ngrok.yml\n"
     ]
    },
    {
     "name": "stdout",
     "output_type": "stream",
     "text": [
      "To access the Global link, please click NgrokTunnel: \"https://c5c2-20-150-138-55.ngrok-free.app\" -> \"http://localhost:5000\"\n",
      " * Serving Flask app '__main__'\n",
      " * Debug mode: off\n"
     ]
    },
    {
     "name": "stderr",
     "output_type": "stream",
     "text": [
      "WARNING: This is a development server. Do not use it in a production deployment. Use a production WSGI server instead.\n",
      " * Running on http://127.0.0.1:5000\n",
      "Press CTRL+C to quit\n"
     ]
    }
   ],
   "source": [
    "from flask import Flask, jsonify, make_response\n",
    "from flask_cors import CORS\n",
    "import requests\n",
    "from pyngrok import ngrok\n",
    "\n",
    "port_no = 5000\n",
    "app = Flask(__name__)\n",
    "CORS(app, resources={r\"/*\": {\"origins\": \"*\"}})\n",
    "\n",
    "# Set up ngrok\n",
    "ngrok.set_auth_token(\"2NrBcCCk49FsKRkCVE7G4obSE5l_3zzjKr4t6UrEDbHiY3yz5\")\n",
    "public_url = ngrok.connect(port_no, bind_tls=True)\n",
    "print(f\"To access the Global link, please click {public_url}\")\n",
    "\n",
    "@app.route(\"/\", methods=[\"OPTIONS\"])\n",
    "def options():\n",
    "    response = make_response()\n",
    "    response.headers.add('Access-Control-Allow-Origin', '*')\n",
    "    response.headers.add('Access-Control-Allow-Headers', '*')\n",
    "    response.headers.add('Access-Control-Allow-Methods', '*')\n",
    "    return response\n",
    "\n",
    "@app.route(\"/\")\n",
    "def home():\n",
    "    a = {\"Word\": \"Hello, World!\"}\n",
    "    response = make_response(jsonify(a))\n",
    "    response.headers['Content-Type'] = 'application/json; charset=utf-8'\n",
    "    return response\n",
    "\n",
    "if __name__ == '__main__':\n",
    "    app.run(port=port_no)\n"
   ]
  }
 ],
 "metadata": {
  "kernelspec": {
   "display_name": "Python 3",
   "language": "python",
   "name": "python3"
  },
  "language_info": {
   "codemirror_mode": {
    "name": "ipython",
    "version": 3
   },
   "file_extension": ".py",
   "mimetype": "text/x-python",
   "name": "python",
   "nbconvert_exporter": "python",
   "pygments_lexer": "ipython3",
   "version": "3.10.8"
  },
  "orig_nbformat": 4
 },
 "nbformat": 4,
 "nbformat_minor": 2
}
